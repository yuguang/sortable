{
 "cells": [
  {
   "cell_type": "code",
   "execution_count": 2,
   "metadata": {
    "collapsed": false
   },
   "outputs": [],
   "source": [
    "from pyspark.sql.functions import concat_ws, col\n",
    "from pyspark import SparkContext, SparkConf, StorageLevel\n",
    "from pyspark.sql import SQLContext\n",
    "import settings, os, re, itertools, json\n",
    "from pyspark.ml.feature import Tokenizer, RegexTokenizer\n",
    "products = sqlContext.read.json('../data_input/products.txt')\n",
    "\n"
   ]
  },
  {
   "cell_type": "code",
   "execution_count": 3,
   "metadata": {
    "collapsed": true
   },
   "outputs": [],
   "source": [
    "listings = sqlContext.read.json('../data_input/listings.txt')"
   ]
  },
  {
   "cell_type": "code",
   "execution_count": 2,
   "metadata": {
    "collapsed": false
   },
   "outputs": [
    {
     "name": "stdout",
     "output_type": "stream",
     "text": [
      "{u'2009-07-13T20:00:00.000-04:00': {'name': u'Samsung_SL720 SL720', 'manufacturer': u'Samsung'}, u'2011-02-06T19:00:00.000-05:00': {'name': u'Canon-T3 Rebel T3', 'manufacturer': u'Canon'}, u'1999-06-29T20:00:00.000-04:00': {'name': u'Sony_Cyber-shot_DSC-D770 Cyber-shot DSC-D770', 'manufacturer': u'Sony'}, u'2000-04-25T20:00:00.000-04:00': {'name': u'Sony_Cyber-shot_DSC-F55V Cyber-shot DSC-F55V', 'manufacturer': u'Sony'}, u'2010-05-02T20:00:00.000-04:00': {'name': u'Samsung_WB5500 WB5500', 'manufacturer': u'Samsung'}, u'2009-01-15T19:00:00.000-05:00': {'name': u'Panasonic_Lumix_DMC-FS15 Lumix DMC-FS15', 'manufacturer': u'Panasonic'}, u'2000-05-14T20:00:00.000-04:00': {'name': u'Kodak_DCS620x DCS620x', 'manufacturer': u'Kodak'}, u'2010-07-16T20:00:00.000-04:00': {'name': u'Panasonic_Lumix_DMC-FZ100 Lumix DMC-FZ100', 'manufacturer': u'Panasonic'}, u'2000-06-01T20:00:00.000-04:00': {'name': u'Fujifilm_FinePix_40i FinePix 40i', 'manufacturer': u'Fujifilm'}, u'2009-06-11T20:00:00.000-04:00': {'name': u'Fujifilm_FinePix_Z300 FinePix Z300', 'manufacturer': u'Fujifilm'}, u'2009-04-16T20:00:00.000-04:00': {'name': u'Panasonic_Lumix_DMC-FS42 Lumix DMC-FS42', 'manufacturer': u'Panasonic'}, u'2000-01-07T19:00:00.000-05:00': {'name': u'Toshiba_PDR-M70 PDR-M70', 'manufacturer': u'Toshiba'}, u'2011-02-07T19:00:00.000-05:00': {'name': u'Nikon-P500 Coolpix P500', 'manufacturer': u'Nikon'}, u'2010-01-05T19:00:00.000-05:00': {'name': u'Samsung_TL205 TL205', 'manufacturer': u'Samsung'}, u'1999-08-25T20:00:00.000-04:00': {'name': u'Fujifilm_MX-1700 MX-1700', 'manufacturer': u'Fujifilm'}, u'2010-03-06T19:00:00.000-05:00': {'name': u'Panasonic_Lumix_DMC-G2 Lumix DMC-G2', 'manufacturer': u'Panasonic'}, u'1998-02-02T19:00:00.000-05:00': {'name': u'Fujifilm_FinePix_700 FinePix 700', 'manufacturer': u'Fujifilm'}, u'2009-08-04T20:00:00.000-04:00': {'name': u'Pentax_Optio_P80 Optio P80', 'manufacturer': u'Pentax'}, u'2009-10-13T20:00:00.000-04:00': {'name': u'Nikon_D3S D3S', 'manufacturer': u'Nikon'}, u'1997-09-08T20:00:00.000-04:00': {'name': u'Casio_QV-700 QV-700', 'manufacturer': u'Casio'}, u'1999-09-26T20:00:00.000-04:00': {'name': u'Nikon_Coolpix_800 Coolpix 800', 'manufacturer': u'Nikon'}, u'2010-02-25T19:00:00.000-05:00': {'name': u'Samsung-ES73 ES73', 'manufacturer': u'Samsung'}, u'2009-08-18T20:00:00.000-04:00': {'name': u'Canon_Digital_IXUS_120_IS Digital IXUS 120 IS', 'manufacturer': u'Canon'}, u'1999-02-24T19:00:00.000-05:00': {'name': u'Sony_Cyber-shot_DSC-F55 Cyber-shot DSC-F55', 'manufacturer': u'Sony'}, u'2009-02-02T19:00:00.000-05:00': {'name': u'Nikon_Coolpix_S230 Coolpix S230', 'manufacturer': u'Nikon'}, u'2009-03-24T20:00:00.000-04:00': {'name': u'Canon_EOS_500D EOS 500D', 'manufacturer': u'Canon'}, u'1999-09-21T20:00:00.000-04:00': {'name': u'Agfa_ePhoto_CL30_Clik ePhoto CL30 Clik!', 'manufacturer': u'Agfa'}, u'2010-09-19T20:00:00.000-04:00': {'name': u'Casio_Exilim_EX-Z2300 Exilim EX-Z2300', 'manufacturer': u'Casio'}, u'1998-09-10T20:00:00.000-04:00': {'name': u'Kodak_DCS560 DCS560', 'manufacturer': u'Kodak'}, u'2009-09-16T20:00:00.000-04:00': {'name': u'Pentax_K-x K-x', 'manufacturer': u'Pentax'}, u'2011-02-15T19:00:00.000-05:00': {'name': u'Kodak-M552 EasyShare M552', 'manufacturer': u'Kodak'}, u'2010-01-04T19:00:00.000-05:00': {'name': u'Kodak_EasyShare_M530 EasyShare M530', 'manufacturer': u'Kodak'}, u'1997-01-02T19:00:00.000-05:00': {'name': u'Nikon_Coolpix_300 Coolpix 300', 'manufacturer': u'Nikon'}, u'2010-01-24T19:00:00.000-05:00': {'name': u'Pentax_Optio_I-10 Optio I-10', 'manufacturer': u'Pentax'}, u'2010-08-22T20:00:00.000-04:00': {'name': u'Kodak-M590 EasyShare M590', 'manufacturer': u'Kodak'}, u'1999-06-27T20:00:00.000-04:00': {'name': u'Olympus_C-21 C-21', 'manufacturer': u'Olympus'}, u'1999-02-14T19:00:00.000-05:00': {'name': u'Nikon_Coolpix_700 Coolpix 700', 'manufacturer': u'Nikon'}, u'2009-08-17T20:00:00.000-04:00': {'name': u'Casio_Exilim_EX-Z90 Exilim EX-Z90', 'manufacturer': u'Casio'}, u'1997-01-19T19:00:00.000-05:00': {'name': u'Nikon_Coolpix_100 Coolpix 100', 'manufacturer': u'Nikon'}, u'2009-11-17T19:00:00.000-05:00': {'name': u'Casio_Exilim_EX-G1 Exilim EX-G1', 'manufacturer': u'Casio'}, u'1998-11-15T19:00:00.000-05:00': {'name': u'Sony_Mavica_FD-91 Mavica FD-91', 'manufacturer': u'Sony'}, u'1998-11-11T19:00:00.000-05:00': {'name': u'Kodak_DC210_plus DC210 plus', 'manufacturer': u'Kodak'}, u'2009-02-03T19:00:00.000-05:00': {'name': u'Fujifilm_FinePix_A150 FinePix A150', 'manufacturer': u'Fujifilm'}, u'2000-09-05T20:00:00.000-04:00': {'name': u'Ricoh_RDC-i700 RDC-i700', 'manufacturer': u'Ricoh'}, u'2011-01-18T19:00:00.000-05:00': {'name': u'Samsung-ST6500 ST6500', 'manufacturer': u'Samsung'}, u'2010-01-25T19:00:00.000-05:00': {'name': u'Panasonic_Lumix_DMC-FX66 Lumix DMC-FX66', 'manufacturer': u'Panasonic'}, u'2009-10-01T20:00:00.000-04:00': {'name': u'Sigma_DP1s DP1s', 'manufacturer': u'Sigma'}, u'1999-06-17T20:00:00.000-04:00': {'name': u'Kodak_DCS660 DCS660', 'manufacturer': u'Kodak'}, u'1999-06-14T20:00:00.000-04:00': {'name': u'Nikon_D1 D1', 'manufacturer': u'Nikon'}, u'2010-07-07T20:00:00.000-04:00': {'name': u'Sony_Cyber-shot_DSC-T99 Cyber-shot DSC-T99', 'manufacturer': u'Sony'}, u'2011-01-04T19:00:00.000-05:00': {'name': u'Casio-TRYX Exilim TRYX', 'manufacturer': u'Casio'}, u'1999-09-20T20:00:00.000-04:00': {'name': u'Konica_Minolta_RD-3000 RD-3000', 'manufacturer': u'Konica Minolta'}, u'2010-11-03T20:00:00.000-04:00': {'name': u'Panasonic_Lumix_DMC-GF2 Lumix DMC-GF2', 'manufacturer': u'Panasonic'}, u'2010-09-08T20:00:00.000-04:00': {'name': u'Pentax-RS1000 Optio RS1000', 'manufacturer': u'Pentax'}, u'2011-03-04T19:00:00.000-05:00': {'name': u'canon-powershot-a800 PowerShot A800', 'manufacturer': u'Canon'}, u'1998-03-15T19:00:00.000-05:00': {'name': u'Nikon_Coolpix_600 Coolpix 600', 'manufacturer': u'Nikon'}, u'1998-09-24T20:00:00.000-04:00': {'name': u'Fujifilm_MX-500 MX-500', 'manufacturer': u'Fujifilm'}, u'2000-02-02T19:00:00.000-05:00': {'name': u'Sony_Mavica_FD-85 Mavica FD-85', 'manufacturer': u'Sony'}, u'2010-01-18T19:00:00.000-05:00': {'name': u'Samsung-TL105 TL105', 'manufacturer': u'Samsung'}, u'1999-01-10T19:00:00.000-05:00': {'name': u'Sanyo_DSC-SX1Z DSC-SX1Z', 'manufacturer': u'Sanyo'}, u'2009-05-31T20:00:00.000-04:00': {'name': u'Olympus-X650-WP X560 WP', 'manufacturer': u'Olympus'}, u'2009-08-12T20:00:00.000-04:00': {'name': u'Samsung_TL225 TL225', 'manufacturer': u'Samsung'}, u'2009-04-13T20:00:00.000-04:00': {'name': u'Nikon_D5000 D5000', 'manufacturer': u'Nikon'}, u'1998-10-25T19:00:00.000-05:00': {'name': u'HP_Photosmart_C30 Photosmart C30', 'manufacturer': u'HP'}, u'2009-07-21T20:00:00.000-04:00': {'name': u'Fujifilm_FinePix_Z37 FinePix Z37', 'manufacturer': u'Fujifilm'}, u'2010-09-20T20:00:00.000-04:00': {'name': u'Leica_V-Lux_2 V-Lux 2', 'manufacturer': u'Leica'}, u'2000-02-07T19:00:00.000-05:00': {'name': u'Olympus_D-460_Zoom D-460 Zoom', 'manufacturer': u'Olympus'}, u'2000-07-31T20:00:00.000-04:00': {'name': u'Olympus_C990Z C990Z', 'manufacturer': u'Olympus'}, u'1998-11-08T19:00:00.000-05:00': {'name': u'Epson_PhotoPC_750_Zoom PhotoPC 750 Zoom', 'manufacturer': u'Epson'}, u'1998-03-04T19:00:00.000-05:00': {'name': u'Casio_QV-770 QV-770', 'manufacturer': u'Casio'}, u'2009-02-17T19:00:00.000-05:00': {'name': u'Canon_PowerShot_SD780_IS PowerShot SD780 IS', 'manufacturer': u'Canon'}, u'2000-02-24T19:00:00.000-05:00': {'name': u'Ricoh_RDC-7 RDC-7', 'manufacturer': u'Ricoh'}, u'1999-08-11T20:00:00.000-04:00': {'name': u'Kodak_DC290 DC290', 'manufacturer': u'Kodak'}, u'2011-04-12T20:00:00.000-04:00': {'name': u'Kodak-C1530 Easyshare C1530', 'manufacturer': u'Kodak'}, u'2009-08-31T20:00:00.000-04:00': {'name': u'Canon_EOS_7D EOS 7D', 'manufacturer': u'Canon'}, u'2010-04-19T20:00:00.000-04:00': {'name': u'Leica_V-LUX_20 V-LUX 20', 'manufacturer': u'Leica'}, u'2000-06-12T20:00:00.000-04:00': {'name': u'Sony_Mavica_CD1000 Mavica CD1000', 'manufacturer': u'Sony'}, u'2010-01-19T19:00:00.000-05:00': {'name': u'Samsung-SL203 SL203', 'manufacturer': u'Samsung'}, u'1996-09-04T20:00:00.000-04:00': {'name': u'Olympus_D-300L D-300L', 'manufacturer': u'Olympus'}, u'1997-08-03T20:00:00.000-04:00': {'name': u'Epson_PhotoPC_600 PhotoPC 600', 'manufacturer': u'Epson'}, u'2000-09-17T20:00:00.000-04:00': {'name': u'Canon_PowerShot_G1 PowerShot G1', 'manufacturer': u'Canon'}, u'1998-09-15T20:00:00.000-04:00': {'name': u'Leica_Digilux Digilux', 'manufacturer': u'Leica'}, u'2000-07-17T20:00:00.000-04:00': {'name': u'Contax_N_Digital N Digital', 'manufacturer': u'Contax'}, u'1999-06-22T20:00:00.000-04:00': {'name': u'Kodak_DC280 DC280', 'manufacturer': u'Kodak'}, u'2010-08-23T20:00:00.000-04:00': {'name': u'Sony_SLT-A55 SLT-A55', 'manufacturer': u'Sony'}, u'2009-03-01T19:00:00.000-05:00': {'name': u'Sony_Cyber-shot_DSC-HX1 Cyber-shot DSC-HX1', 'manufacturer': u'Sony'}, u'2009-01-26T19:00:00.000-05:00': {'name': u'Panasonic_Lumix_DMC-ZS1 Lumix DMC-ZS1', 'manufacturer': u'Panasonic'}, u'1999-02-15T19:00:00.000-05:00': {'name': u'Olympus_C-2000_Zoom C-2000 Zoom', 'manufacturer': u'Olympus'}, u'1999-03-17T19:00:00.000-05:00': {'name': u'Olympus_C-2500_L C-2500 L', 'manufacturer': u'Olympus'}, u'1998-03-26T19:00:00.000-05:00': {'name': u'Canon_PowerShot_Pro70 PowerShot Pro70', 'manufacturer': u'Canon'}, u'2011-04-04T20:00:00.000-04:00': {'name': u'Nikon-D5100 D5100', 'manufacturer': u'Nikon'}, u'1998-09-26T20:00:00.000-04:00': {'name': u'Sony_Cyber-shot_DSC-D700 Cyber-shot DSC-D700', 'manufacturer': u'Sony'}, u'2000-01-30T19:00:00.000-05:00': {'name': u'Fujifilm_MX-1400 MX-1400', 'manufacturer': u'Fujifilm'}, u'2009-03-30T20:00:00.000-04:00': {'name': u'Olympus_E-450 E-450', 'manufacturer': u'Olympus'}, u'1997-10-08T20:00:00.000-04:00': {'name': u'Agfa_ePhoto_1280 ePhoto 1280', 'manufacturer': u'Agfa'}, u'1998-11-01T19:00:00.000-05:00': {'name': u'Olympus_C900Z C900Z', 'manufacturer': u'Olympus'}, u'2009-02-18T19:00:00.000-05:00': {'name': u'Ricoh_CX1 CX1', 'manufacturer': u'Ricoh'}, u'2010-08-27T20:00:00.000-04:00': {'name': u'Kodak-M531 EasyShare M531', 'manufacturer': u'Kodak'}, u'2009-05-19T20:00:00.000-04:00': {'name': u'Pentax_K-7 K-7', 'manufacturer': u'Pentax'}, u'1998-01-28T19:00:00.000-05:00': {'name': u'Kodak_DC200 DC200', 'manufacturer': u'Kodak'}, u'2000-09-22T20:00:00.000-04:00': {'name': u'Kodak_DC3200 DC3200', 'manufacturer': u'Kodak'}, u'1999-04-15T20:00:00.000-04:00': {'name': u'Epson_PhotoPC_800 PhotoPC 800', 'manufacturer': u'Epson'}, u'2000-02-01T19:00:00.000-05:00': {'name': u'Olympus_D-360L D-360L', 'manufacturer': u'Olympus'}, u'1999-08-29T20:00:00.000-04:00': {'name': u'Epson_PhotoPC_850_Zoom PhotoPC 850 Zoom', 'manufacturer': u'Epson'}, u'2011-02-08T19:00:00.000-05:00': {'name': u'Nikon-l24 Coolpix L24', 'manufacturer': u'Nikon'}, u'1999-07-11T20:00:00.000-04:00': {'name': u'Epson_PhotoPC_650 PhotoPC 650', 'manufacturer': u'Epson'}, u'1999-10-10T20:00:00.000-04:00': {'name': u'Ricoh_RDC-5300 RDC-5300', 'manufacturer': u'Ricoh'}, u'2010-02-19T19:00:00.000-05:00': {'name': u'Samsung_TL500 TL500', 'manufacturer': u'Samsung'}, u'1996-05-12T20:00:00.000-04:00': {'name': u'Canon_PowerShot_600 PowerShot 600', 'manufacturer': u'Canon'}, u'1998-05-09T20:00:00.000-04:00': {'name': u'Agfa_ePhoto_1680 ePhoto 1680', 'manufacturer': u'Agfa'}, u'2009-01-06T19:00:00.000-05:00': {'name': u'Olympus_SP-590_UZ SP-590 UZ', 'manufacturer': u'Olympus'}, u'2009-10-19T20:00:00.000-04:00': {'name': u'Canon_EOS-1D_Mark_IV EOS-1D Mark IV', 'manufacturer': u'Canon'}, u'2010-01-03T19:00:00.000-05:00': {'name': u'Samsung_NX10 NX10', 'manufacturer': u'Samsung'}, u'2000-02-23T19:00:00.000-05:00': {'name': u'Casio_XV-3 XV-3', 'manufacturer': u'Casio'}, u'2010-11-15T19:00:00.000-05:00': {'name': u'Olympus_PEN_E-PL1s PEN E-PL1s', 'manufacturer': u'Olympus'}, u'2009-11-15T19:00:00.000-05:00': {'name': u'Casio_Exilim_EX-FH25 Exilim EX-FH25', 'manufacturer': u'Casio'}, u'2010-09-10T20:00:00.000-04:00': {'name': u'Samsung-ES30 ES30', 'manufacturer': u'Samsung'}, u'1999-08-17T20:00:00.000-04:00': {'name': u'Sony_Cyber-shot_DSC-F505 Cyber-shot DSC-F505', 'manufacturer': u'Sony'}, u'2000-01-03T19:00:00.000-05:00': {'name': u'Casio_QV-3000EX QV-3000EX', 'manufacturer': u'Casio'}, u'1999-09-14T20:00:00.000-04:00': {'name': u'Fujifilm_MX-1200 MX-1200', 'manufacturer': u'Fujifilm'}, u'2010-09-14T20:00:00.000-04:00': {'name': u'Nikon_D7000 D7000', 'manufacturer': u'Nikon'}, u'2009-03-02T19:00:00.000-05:00': {'name': u'Panasonic_Lumix_DMC-GH1 Lumix DMC-GH1', 'manufacturer': u'Panasonic'}, u'2010-02-17T19:00:00.000-05:00': {'name': u'Sony_Cyber-shot_DSC-TX5 Cyber-shot DSC-TX5', 'manufacturer': u'Sony'}, u'1999-10-18T20:00:00.000-04:00': {'name': u'Olympus_C-2020_Zoom C-2020 Zoom', 'manufacturer': u'Olympus'}, u'1999-03-02T19:00:00.000-05:00': {'name': u'Sony_Mavica_FD-83 Mavica FD-83', 'manufacturer': u'Sony'}, u'1998-09-27T20:00:00.000-04:00': {'name': u'Olympus_D-340L D-340L', 'manufacturer': u'Olympus'}, u'1998-08-17T20:00:00.000-04:00': {'name': u'Casio_QV-7000SX QV-7000SX', 'manufacturer': u'Casio'}, u'2010-02-01T19:00:00.000-05:00': {'name': u'Fujifilm_FinePix_S1770 FinePix S1770', 'manufacturer': u'Fujifilm'}, u'2010-07-20T20:00:00.000-04:00': {'name': u'Fujifilm_FinePix_F300EXR FinePix F300EXR', 'manufacturer': u'Fujifilm'}, u'2011-02-01T19:00:00.000-05:00': {'name': u'Sony-HX9v Cybershot DSC-HX9v', 'manufacturer': u'Sony'}, u'2011-01-24T19:00:00.000-05:00': {'name': u'Panasonic-TZ18 Lumix DMC-TZ18', 'manufacturer': u'Panasonic'}, u'1998-06-01T20:00:00.000-04:00': {'name': u'Toshiba_PDR-M1 PDR-M1', 'manufacturer': u'Toshiba'}, u'1994-02-28T19:00:00.000-05:00': {'name': u'Kodak_DCS420 DCS420', 'manufacturer': u'Kodak'}, u'1999-07-19T20:00:00.000-04:00': {'name': u'Casio_QV-8000SX QV-8000SX', 'manufacturer': u'Casio'}, u'2000-01-05T19:00:00.000-05:00': {'name': u'Canon_PowerShot_S20 PowerShot S20', 'manufacturer': u'Canon'}, u'2009-08-29T20:00:00.000-04:00': {'name': u'Olympus_E-600 E-600', 'manufacturer': u'Olympus'}, u'1999-02-02T19:00:00.000-05:00': {'name': u'Kodak_DCS620 DCS620', 'manufacturer': u'Kodak'}, u'2010-02-02T19:00:00.000-05:00': {'name': u'Nikon_Coolpix_L22 Coolpix L22', 'manufacturer': u'Nikon'}, u'2009-07-28T20:00:00.000-04:00': {'name': u'Kodak_EasyShare_Z950 EasyShare Z950', 'manufacturer': u'Kodak'}, u'2010-09-13T20:00:00.000-04:00': {'name': u'Canon_PowerShot_SX30_IS PowerShot SX30 IS', 'manufacturer': u'Canon'}, u'2010-02-07T19:00:00.000-05:00': {'name': u'Canon_Kiss_X4 Kiss X4', 'manufacturer': u'Canon'}, u'1999-01-06T19:00:00.000-05:00': {'name': u'Toshiba_PDR-M3 PDR-M3', 'manufacturer': u'Toshiba'}, u'2010-01-10T19:00:00.000-05:00': {'name': u'Kodak-C142 EasyShare C142', 'manufacturer': u'Kodak'}, u'1999-10-02T20:00:00.000-04:00': {'name': u'HP_Photosmart_C200 Photosmart C200', 'manufacturer': u'HP'}, u'1998-07-12T20:00:00.000-04:00': {'name': u'Kodak_DCS315 DCS315', 'manufacturer': u'Kodak'}, u'2000-04-23T20:00:00.000-04:00': {'name': u'Olympus_C-3000_Zoom C-3000 Zoom', 'manufacturer': u'Olympus'}, u'2010-06-08T20:00:00.000-04:00': {'name': u'Sony_Alpha_DSLR-A390 Alpha DSLR-A390', 'manufacturer': u'Sony'}, u'2010-01-06T19:00:00.000-05:00': {'name': u'Sony_Cyber-shot_DSC-TX9 Cyber-shot DSC-TX9', 'manufacturer': u'Sony'}, u'2010-02-20T19:00:00.000-05:00': {'name': u'Casio_Exilim_EX-Z35 Exilim EX-Z35', 'manufacturer': u'Casio'}, u'1997-09-09T20:00:00.000-04:00': {'name': u'Olympus_D-600L D-600L', 'manufacturer': u'Olympus'}, u'2000-06-14T20:00:00.000-04:00': {'name': u'Olympus_C-2100_UZ C-2100 UZ', 'manufacturer': u'Olympus'}, u'2000-06-28T20:00:00.000-04:00': {'name': u'Ricoh_RDC-200G RDC-200G', 'manufacturer': u'Ricoh'}, u'2010-05-31T20:00:00.000-04:00': {'name': u'Panasonic_Lumix_DMC-FX75 Lumix DMC-FX75', 'manufacturer': u'Panasonic'}, u'2010-09-07T20:00:00.000-04:00': {'name': u'Nikon_Coolpix_P7000 Coolpix P7000', 'manufacturer': u'Nikon'}, u'2009-09-08T20:00:00.000-04:00': {'name': u'Leica_M9 M9', 'manufacturer': u'Leica'}, u'2009-11-09T19:00:00.000-05:00': {'name': u'Ricoh_GXR_(A12) GXR (A12)', 'manufacturer': u'Ricoh'}, u'2009-07-26T20:00:00.000-04:00': {'name': u'Panasonic_Lumix_DMC-ZR1 Lumix DMC-ZR1', 'manufacturer': u'Panasonic'}, u'2000-11-20T19:00:00.000-05:00': {'name': u'Olympus_C-2040_Zoom C-2040 Zoom', 'manufacturer': u'Olympus'}, u'1998-08-30T20:00:00.000-04:00': {'name': u'Konica_Minolta_DiMAGE_EX_1500_Wide DiMAGE EX 1500 Wide', 'manufacturer': u'Konica Minolta'}, u'2010-06-01T20:00:00.000-04:00': {'name': u'Samsung_NX5 NX5', 'manufacturer': u'Samsung'}, u'2010-08-16T20:00:00.000-04:00': {'name': u'Nikon_Coolpix_S1100pj Coolpix S1100pj', 'manufacturer': u'Nikon'}, u'2010-08-02T20:00:00.000-04:00': {'name': u'Casio_Exilim_EX-Z800 Exilim EX-Z800', 'manufacturer': u'Casio'}, u'2009-08-30T20:00:00.000-04:00': {'name': u'Casio_Exilim_EX-Z280 Exilim EX-Z280', 'manufacturer': u'Casio'}, u'2000-08-21T20:00:00.000-04:00': {'name': u'Olympus_E-10 E-10', 'manufacturer': u'Olympus'}, u'1999-07-26T20:00:00.000-04:00': {'name': u'Kodak_DCS330 DCS330', 'manufacturer': u'Kodak'}, u'1999-10-27T20:00:00.000-04:00': {'name': u'Fujifilm_DS-260HD DS-260HD', 'manufacturer': u'Fujifilm'}, u'2000-02-03T19:00:00.000-05:00': {'name': u'Leica_Digilux_Zoom Digilux Zoom', 'manufacturer': u'Leica'}, u'2009-08-03T20:00:00.000-04:00': {'name': u'Nikon_Coolpix_S570 Coolpix S570', 'manufacturer': u'Nikon'}, u'2000-04-11T20:00:00.000-04:00': {'name': u'Agfa_ePhoto_CL18 ePhoto CL18', 'manufacturer': u'Agfa'}, u'1997-07-15T20:00:00.000-04:00': {'name': u'Canon_PowerShot_350 PowerShot 350', 'manufacturer': u'Canon'}, u'2010-08-28T20:00:00.000-04:00': {'name': u'Kodak-C143 EasyShare C143', 'manufacturer': u'Kodak'}, u'1999-08-02T20:00:00.000-04:00': {'name': u'Kodak_DC215 DC215', 'manufacturer': u'Kodak'}, u'2011-02-02T19:00:00.000-05:00': {'name': u'nikon-s9100 Coolpix S9100', 'manufacturer': u'Nikon'}, u'2011-02-14T19:00:00.000-05:00': {'name': u'Sony-W530 Cybershot DSC-W530', 'manufacturer': u'Sony'}, u'2000-06-05T20:00:00.000-04:00': {'name': u'Kodak_DC4800 DC4800', 'manufacturer': u'Kodak'}, u'1998-02-11T19:00:00.000-05:00': {'name': u'HP_Photosmart_C20 Photosmart C20', 'manufacturer': u'HP'}, u'1999-08-26T20:00:00.000-04:00': {'name': u'Canon_PowerShot_S10 PowerShot S10', 'manufacturer': u'Canon'}, u'2000-01-26T19:00:00.000-05:00': {'name': u'Olympus_C-3030_Zoom C-3030 Zoom', 'manufacturer': u'Olympus'}, u'2009-06-15T20:00:00.000-04:00': {'name': u'Olympus_PEN_E-P1 PEN E-P1', 'manufacturer': u'Olympus'}, u'2009-02-16T19:00:00.000-05:00': {'name': u'Samsung_SL30 SL30', 'manufacturer': u'Samsung'}, u'1998-06-04T20:00:00.000-04:00': {'name': u'Ricoh_RDC-4300 RDC-4300', 'manufacturer': u'Ricoh'}, u'2010-04-27T20:00:00.000-04:00': {'name': u'Pentax_Optio_M90 Optio M90', 'manufacturer': u'Pentax'}, u'2000-06-21T20:00:00.000-04:00': {'name': u'Casio_QV-2800UX QV-2800UX', 'manufacturer': u'Casio'}, u'2010-08-25T20:00:00.000-04:00': {'name': u'Canon_EOS_60D EOS 60D', 'manufacturer': u'Canon'}, u'2009-07-18T20:00:00.000-04:00': {'name': u'Samsung-ES17 ES17', 'manufacturer': u'Samsung'}, u'2009-06-24T20:00:00.000-04:00': {'name': u'Pentax_Optio_W80 Optio W80', 'manufacturer': u'Pentax'}, u'2010-12-31T19:00:00.000-05:00': {'name': u'Fujifilm-HS22 FinePix HS22', 'manufacturer': u'Fujifilm'}, u'2010-05-10T20:00:00.000-04:00': {'name': u'Canon_IXY_30S IXY 30S', 'manufacturer': u'Canon'}, u'2000-08-31T20:00:00.000-04:00': {'name': u'Leica_Digilux_4.3 Digilux 4.3', 'manufacturer': u'Leica'}, u'2000-05-16T20:00:00.000-04:00': {'name': u'Canon_EOS_D30 EOS D30', 'manufacturer': u'Canon'}, u'2009-01-14T19:00:00.000-05:00': {'name': u'Canon_PowerShot_A480 PowerShot A480', 'manufacturer': u'Canon'}, u'2010-09-09T20:00:00.000-04:00': {'name': u'Pentax_K-r K-r', 'manufacturer': u'Pentax'}, u'2010-08-18T20:00:00.000-04:00': {'name': u'Canon_IXY_50S IXY 50S', 'manufacturer': u'Canon'}, u'2009-11-04T19:00:00.000-05:00': {'name': u'Olympus_PEN_E-P2 PEN E-P2', 'manufacturer': u'Olympus'}, u'2009-08-26T20:00:00.000-04:00': {'name': u'Sony_Alpha_DSLR-A500 Alpha DSLR-A500', 'manufacturer': u'Sony'}, u'2010-08-17T20:00:00.000-04:00': {'name': u'Olympus-FE5040 FE-5040', 'manufacturer': u'Olympus'}, u'2009-02-22T19:00:00.000-05:00': {'name': u'Samsung_WB1000 WB1000', 'manufacturer': u'Samsung'}, u'1998-04-19T20:00:00.000-04:00': {'name': u'Casio_QV-5000SX QV-5000SX', 'manufacturer': u'Casio'}, u'2009-02-26T19:00:00.000-05:00': {'name': u'Epson_R-D1x R-D1x', 'manufacturer': u'Epson'}, u'1999-01-01T19:00:00.000-05:00': {'name': u'Olympus_D-340R D-340R', 'manufacturer': u'Olympus'}, u'2000-08-27T20:00:00.000-04:00': {'name': u'Nikon_Coolpix_880 Coolpix 880', 'manufacturer': u'Nikon'}, u'2000-09-11T20:00:00.000-04:00': {'name': u'Sony_Cyber-shot_DSC-P1 Cyber-shot DSC-P1', 'manufacturer': u'Sony'}, u'1999-05-17T20:00:00.000-04:00': {'name': u'Fujifilm_MX-1500 MX-1500', 'manufacturer': u'Fujifilm'}, u'2000-05-03T20:00:00.000-04:00': {'name': u'Epson_PhotoPC_3000_Zoom PhotoPC 3000 Zoom', 'manufacturer': u'Epson'}, u'1999-03-29T19:00:00.000-05:00': {'name': u'Canon_PowerShot_A50 PowerShot A50', 'manufacturer': u'Canon'}, u'1999-02-03T19:00:00.000-05:00': {'name': u'Fujifilm_FinePix_2700 FinePix 2700', 'manufacturer': u'Fujifilm'}, u'1997-04-30T20:00:00.000-04:00': {'name': u'Epson_PhotoPC_500 PhotoPC 500', 'manufacturer': u'Epson'}, u'1996-11-19T19:00:00.000-05:00': {'name': u'Casio_QV-300 QV-300', 'manufacturer': u'Casio'}, u'2009-05-17T20:00:00.000-04:00': {'name': u'Sony_Alpha_DSLR-A330 Alpha DSLR-A330', 'manufacturer': u'Sony'}, u'2009-08-05T20:00:00.000-04:00': {'name': u'Sony_Cyber-shot_DSC-WX1 Cyber-shot DSC-WX1', 'manufacturer': u'Sony'}, u'1997-08-01T20:00:00.000-04:00': {'name': u'Fujifilm_DS-300 DS-300', 'manufacturer': u'Fujifilm'}, u'2009-01-04T19:00:00.000-05:00': {'name': u'Kodak_EasyShare_Z980 EasyShare Z980', 'manufacturer': u'Kodak'}, u'1995-02-28T19:00:00.000-05:00': {'name': u'Kodak_DCS460 DCS460', 'manufacturer': u'Kodak'}, u'2009-01-07T19:00:00.000-05:00': {'name': u'Samsung_TL100 TL100', 'manufacturer': u'Samsung'}, u'1999-07-30T20:00:00.000-04:00': {'name': u'Olympus_C920Z C920Z', 'manufacturer': u'Olympus'}, u'2009-07-16T20:00:00.000-04:00': {'name': u'Olympus_Stylus_Tough_6010 Stylus Tough 6010', 'manufacturer': u'Olympus'}, u'2009-07-29T20:00:00.000-04:00': {'name': u'Nikon_D300S D300S', 'manufacturer': u'Nikon'}, u'2010-03-20T20:00:00.000-04:00': {'name': u'Olympus-T100 T100', 'manufacturer': u'Olympus'}, u'2010-02-23T19:00:00.000-05:00': {'name': u'Pentax_Optio_W90 Optio W90', 'manufacturer': u'Pentax'}, u'2009-08-19T20:00:00.000-04:00': {'name': u'Ricoh_CX2 CX2', 'manufacturer': u'Ricoh'}, u'1998-08-03T20:00:00.000-04:00': {'name': u'Sony_Mavica_FD-71 Mavica FD-71', 'manufacturer': u'Sony'}, u'1999-09-05T20:00:00.000-04:00': {'name': u'Toshiba_PDR-M5 PDR-M5', 'manufacturer': u'Toshiba'}, u'2000-06-23T20:00:00.000-04:00': {'name': u'Konica_Minolta_DiMAGE_2300 DiMAGE 2300', 'manufacturer': u'Konica Minolta'}, u'2000-09-19T20:00:00.000-04:00': {'name': u'HP_Photosmart_C215 Photosmart C215', 'manufacturer': u'HP'}, u'2011-01-05T19:00:00.000-05:00': {'name': u'Panasonic-FH2 Lumix DMC-FH2', 'manufacturer': u'Panasonic'}, u'2009-06-10T20:00:00.000-04:00': {'name': u'Casio_Exilim_EX-H10 Exilim EX-H10', 'manufacturer': u'Casio'}, u'1998-07-04T20:00:00.000-04:00': {'name': u'Epson_PhotoPC_700 PhotoPC 700', 'manufacturer': u'Epson'}, u'1997-11-25T19:00:00.000-05:00': {'name': u'Epson_PhotoPC_550 PhotoPC 550', 'manufacturer': u'Epson'}, u'2009-06-28T20:00:00.000-04:00': {'name': u'Agfa_DC-600uw DC-600uw', 'manufacturer': u'Agfa'}, u'2009-02-23T19:00:00.000-05:00': {'name': u'Olympus_E-620 E-620', 'manufacturer': u'Olympus'}, u'1999-02-25T19:00:00.000-05:00': {'name': u'Agfa_ePhoto_CL50 ePhoto CL50', 'manufacturer': u'Agfa'}, u'1999-02-17T19:00:00.000-05:00': {'name': u'Toshiba_PDR-M4 PDR-M4', 'manufacturer': u'Toshiba'}, u'2010-12-27T19:00:00.000-05:00': {'name': u'Samsung-WB700 WB700', 'manufacturer': u'Samsung'}, u'2011-03-01T19:00:00.000-05:00': {'name': u'Olympus-SZ-20 SZ-20', 'manufacturer': u'Olympus'}, u'1998-05-19T20:00:00.000-04:00': {'name': u'Kodak_DC220 DC220', 'manufacturer': u'Kodak'}, u'2009-09-01T20:00:00.000-04:00': {'name': u'Panasonic_Lumix_DMC-GF1 Lumix DMC-GF1', 'manufacturer': u'Panasonic'}}\n"
     ]
    }
   ],
   "source": [
    "d = products.withColumnRenamed('announced-date', 'id')\\\n",
    "    .select(col('id'), concat_ws(' ', products.product_name, products.family, products.model).alias('name'), products.manufacturer)\\\n",
    "    .map(lambda row: (row.id, {'name': row.name, 'manufacturer': row.manufacturer}))\\\n",
    "    .collectAsMap()\n",
    "print d"
   ]
  },
  {
   "cell_type": "code",
   "execution_count": 6,
   "metadata": {
    "collapsed": false
   },
   "outputs": [
    {
     "name": "stdout",
     "output_type": "stream",
     "text": [
      "+--------+--------------------+------+--------------------+\n",
      "|currency|        manufacturer| price|               title|\n",
      "+--------+--------------------+------+--------------------+\n",
      "|     CAD|Neewer Electronic...| 35.99|LED Flash Macro R...|\n",
      "|     CAD|        Canon Canada|199.96|Canon PowerShot S...|\n",
      "|     CAD|        Canon Canada|209.00|Canon PowerShot S...|\n",
      "|     CAD|        Canon Canada|306.24|Canon PowerShot D...|\n",
      "|     CAD|        Canon Canada|420.33|Canon PowerShot D...|\n",
      "|     CAD|             Samsung| 13.99|Genuine Samsung E...|\n",
      "|     CAD|        Canon Canada|129.99|Canon PowerShot A...|\n",
      "|     CAD|        Canon Canada| 88.00|Canon PowerShot A...|\n",
      "|     CAD|        Canon Canada|129.92|Canon PowerShot A...|\n",
      "|     CAD|        Canon Canada|259.99|Canon PowerShot E...|\n",
      "|     CAD|        Canon Canada|289.00|Canon PowerShot E...|\n",
      "|     CAD|        Canon Canada|313.33|Canon PowerShot S...|\n",
      "|     CAD|               Kodak|299.00|Kodak EasyShare Z...|\n",
      "|     CAD|               Kodak|299.95|Kodak EasyShare Z...|\n",
      "|     CAD|               Nikon| 29.75|Nikon EN-EL9a 108...|\n",
      "|     CAD|               Canon| 44.99|Canon NB-7L Lithi...|\n",
      "|     CAD|               Canon| 54.88|Canon LP-E6 Batte...|\n",
      "|     CAD|       Pentax Canada|387.33|PENTAX Optio WG-1...|\n",
      "|     CAD|        Canon Canada|253.24|Canon PowerShot E...|\n",
      "|     CAD|        Canon Canada|402.46|Canon PowerShot E...|\n",
      "+--------+--------------------+------+--------------------+\n",
      "only showing top 20 rows\n",
      "\n"
     ]
    }
   ],
   "source": [
    "products_dict = d\n",
    "listings.show()"
   ]
  },
  {
   "cell_type": "code",
   "execution_count": 7,
   "metadata": {
    "collapsed": true
   },
   "outputs": [],
   "source": [
    "listings_dict = listings.select(concat_ws(' ', listings.currency, listings.price).alias('id'), listings.manufacturer, listings.title)\\\n",
    "                         .map(lambda row: (row.id, {'name': row.title, 'manufacturer': row.manufacturer}))\\\n",
    "                         .collectAsMap()"
   ]
  },
  {
   "cell_type": "code",
   "execution_count": null,
   "metadata": {
    "collapsed": false
   },
   "outputs": [],
   "source": [
    "tokenizer = Tokenizer(inputCol=\"title\", outputCol=\"words\")\n",
    "listings = tokenizer.transform(listings)\n"
   ]
  },
  {
   "cell_type": "code",
   "execution_count": 6,
   "metadata": {
    "collapsed": false
   },
   "outputs": [
    {
     "name": "stdout",
     "output_type": "stream",
     "text": [
      "+--------+--------------------+------+--------------------+--------------------+\n",
      "|currency|        manufacturer| price|               title|               words|\n",
      "+--------+--------------------+------+--------------------+--------------------+\n",
      "|     CAD|Neewer Electronic...| 35.99|LED Flash Macro R...|[led, flash, macr...|\n",
      "|     CAD|        Canon Canada|199.96|Canon PowerShot S...|[canon, powershot...|\n",
      "|     CAD|        Canon Canada|209.00|Canon PowerShot S...|[canon, powershot...|\n",
      "|     CAD|        Canon Canada|306.24|Canon PowerShot D...|[canon, powershot...|\n",
      "|     CAD|        Canon Canada|420.33|Canon PowerShot D...|[canon, powershot...|\n",
      "|     CAD|             Samsung| 13.99|Genuine Samsung E...|[genuine, samsung...|\n",
      "|     CAD|        Canon Canada|129.99|Canon PowerShot A...|[canon, powershot...|\n",
      "|     CAD|        Canon Canada| 88.00|Canon PowerShot A...|[canon, powershot...|\n",
      "|     CAD|        Canon Canada|129.92|Canon PowerShot A...|[canon, powershot...|\n",
      "|     CAD|        Canon Canada|259.99|Canon PowerShot E...|[canon, powershot...|\n",
      "|     CAD|        Canon Canada|289.00|Canon PowerShot E...|[canon, powershot...|\n",
      "|     CAD|        Canon Canada|313.33|Canon PowerShot S...|[canon, powershot...|\n",
      "|     CAD|               Kodak|299.00|Kodak EasyShare Z...|[kodak, easyshare...|\n",
      "|     CAD|               Kodak|299.95|Kodak EasyShare Z...|[kodak, easyshare...|\n",
      "|     CAD|               Nikon| 29.75|Nikon EN-EL9a 108...|[nikon, en-el9a, ...|\n",
      "|     CAD|               Canon| 44.99|Canon NB-7L Lithi...|[canon, nb-7l, li...|\n",
      "|     CAD|               Canon| 54.88|Canon LP-E6 Batte...|[canon, lp-e6, ba...|\n",
      "|     CAD|       Pentax Canada|387.33|PENTAX Optio WG-1...|[pentax, optio, w...|\n",
      "|     CAD|        Canon Canada|253.24|Canon PowerShot E...|[canon, powershot...|\n",
      "|     CAD|        Canon Canada|402.46|Canon PowerShot E...|[canon, powershot...|\n",
      "+--------+--------------------+------+--------------------+--------------------+\n",
      "only showing top 20 rows\n",
      "\n"
     ]
    }
   ],
   "source": [
    "listings.show()"
   ]
  },
  {
   "cell_type": "code",
   "execution_count": 2,
   "metadata": {
    "collapsed": false
   },
   "outputs": [
    {
     "name": "stdout",
     "output_type": "stream",
     "text": [
      "Row(words=[u'hi', u'i', u'heard', u'about', u'spark'], label=0)\n",
      "Row(words=[u'ricoh', u'-', u'unit\\xe3\\x83\\xe2\\xa9', u'p10', u'28-300', u'mm', u'pour', u'appareil', u'photo', u'gxr'], label=1)\n",
      "Row(words=[u'logistic,regression,models,are,neat'], label=2)\n"
     ]
    }
   ],
   "source": [
    "from pyspark.ml.feature import Tokenizer, RegexTokenizer\n",
    "\n",
    "sentenceDataFrame = sqlContext.createDataFrame([\n",
    "    (0, \"Hi I heard about Spark\"),\n",
    "    (1, \"Ricoh - UnitÃ© P10 28-300 mm pour appareil photo GXR\"),\n",
    "    (2, \"Logistic,regression,models,are,neat\")\n",
    "], [\"label\", \"sentence\"])\n",
    "tokenizer = Tokenizer(inputCol=\"sentence\", outputCol=\"words\")\n",
    "wordsDataFrame = tokenizer.transform(sentenceDataFrame)\n",
    "for words_label in wordsDataFrame.select(\"words\", \"label\").take(3):\n",
    "    print(words_label)\n",
    "regexTokenizer = RegexTokenizer(inputCol=\"sentence\", outputCol=\"words\", pattern=\"\\\\W\")"
   ]
  }
 ],
 "metadata": {
  "kernelspec": {
   "display_name": "Python 2",
   "language": "python",
   "name": "python2"
  },
  "language_info": {
   "codemirror_mode": {
    "name": "ipython",
    "version": 2
   },
   "file_extension": ".py",
   "mimetype": "text/x-python",
   "name": "python",
   "nbconvert_exporter": "python",
   "pygments_lexer": "ipython2",
   "version": "2.7.10"
  }
 },
 "nbformat": 4,
 "nbformat_minor": 0
}
